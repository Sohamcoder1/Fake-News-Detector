{
  "nbformat": 4,
  "nbformat_minor": 0,
  "metadata": {
    "colab": {
      "provenance": [],
      "authorship_tag": "ABX9TyObva6uqHQyV3z1yFC8JAv1",
      "include_colab_link": true
    },
    "kernelspec": {
      "name": "python3",
      "display_name": "Python 3"
    },
    "language_info": {
      "name": "python"
    }
  },
  "cells": [
    {
      "cell_type": "markdown",
      "metadata": {
        "id": "view-in-github",
        "colab_type": "text"
      },
      "source": [
        "<a href=\"https://colab.research.google.com/github/kuheli31/Fake-News-Detector/blob/main/Fake_News_Detection.ipynb\" target=\"_parent\"><img src=\"https://colab.research.google.com/assets/colab-badge.svg\" alt=\"Open In Colab\"/></a>"
      ]
    },
    {
      "cell_type": "code",
      "source": [
        "#Importing libraries\n",
        "import pandas as pd\n",
        "import numpy as np\n",
        "import matplotlib.pyplot as plt\n",
        "import seaborn as sns\n",
        "from sklearn.model_selection import train_test_split\n",
        "from sklearn.metrics import accuracy_score\n",
        "from sklearn.metrics import confusion_matrix\n",
        "from sklearn.metrics import classification_report\n",
        "from sklearn.metrics import roc_auc_score\n",
        "from sklearn.metrics import roc_curve\n",
        "import re\n",
        "import string\n",
        "import requests"
      ],
      "metadata": {
        "id": "msZS4f0WoM_w"
      },
      "execution_count": 4,
      "outputs": []
    },
    {
      "cell_type": "code",
      "source": [
        "#Real time news api (https://gnews.io/dashboard) -- 100 requests per day\n",
        "news_api_key = 'd2b27a1e3f818564545508b6c744d24a'\n",
        "#Endpoints are -> {search , top-headlines}\n",
        "endpoint = 'search'\n",
        "#Parameters are -> {The topic the user want to search}\n",
        "question = input('Enter your question: ')\n",
        "parameters= f'q={question}&lang=en&max=5'\n",
        "#Example (try this link to understand the url)-> https://gnews.io/api/v4/top-headlines?q=modi&lang=en&max=5&apikey=d2b27a1e3f818564545508b6c744d24a\n",
        "news_api_url = f'https://gnews.io/api/v4/{endpoint}?{parameters}&apikey={news_api_key}'\n",
        "\n",
        "response = requests.get(news_api_url)\n",
        "data = response.json()\n",
        "\n",
        "if 'articles' in data:\n",
        "    for article in data['articles']:\n",
        "        print(f\"Published Time: {article['publishedAt']}\")\n",
        "        print(f\"Title: {article['title']}\")\n",
        "        print(f\"Description: {article['description']}\")\n",
        "        print(f\"Image: {article['image']}\")\n",
        "        print(f\"Content: {article['content']}\")\n",
        "        print(f\"Source Name: {article['source']['name']}\")\n",
        "        print(f\"Source URL: {article['source']['url']}\")\n",
        "        print(f\"Source Country: {article['source']['country']}\")\n",
        "        print(f\"URL: {article['url']}\\n\")\n",
        "else:\n",
        "    print(data)"
      ],
      "metadata": {
        "colab": {
          "base_uri": "https://localhost:8080/"
        },
        "id": "Sd6poGBt6bJi",
        "outputId": "227e2194-cd76-4e73-85d1-f1bc2dda560a"
      },
      "execution_count": 18,
      "outputs": [
        {
          "output_type": "stream",
          "name": "stdout",
          "text": [
            "Enter your question: india school\n",
            "Published Time: 2025-09-13T04:00:43Z\n",
            "Title: Top National, International, Sports Updates for Students\n",
            "Description: Here are the top school assembly news headlines for September 13: From India’s new Vice President taking oath to key matches in the Asia Cup and global political shifts, here’s what’s making news.\n",
            "Image: https://images.indianexpress.com/2025/09/school-assembly-news-headlines-spet-13.png\n",
            "Content: Prime Minister Modi’s official visit to Manipur includes meetings with displaced people, new project launches, and public addresses amid ongoing post-violence recovery.\n",
            "Story continues below this ad\n",
            "Union Minister Amit Shah launched fast-track immigr... [1517 chars]\n",
            "Source Name: The Indian Express\n",
            "Source URL: https://indianexpress.com\n",
            "Source Country: in\n",
            "URL: https://indianexpress.com/article/education/school-assembly-news-headlines-today-september-13-cp-radhakrishnan-vice-president-gukesh-asia-cup-cricket-score-pm-modi-manipur-visit-nepal-gen-z-protest-10246256/\n",
            "\n",
            "Published Time: 2025-09-13T02:40:07Z\n",
            "Title: A hospital at IIT Kanpur? ‘It makes a lot of sense for MedTech,’ says Prof Sandeep Verma\n",
            "Description: Professor Sandeep Verma, head of IIT Kanpur’s Gangwal School of Medical Sciences and Technology, explains why the institute is building a 500-bed hospital, how it could transform India’s MedTech landscape, and the challenges of bringing medicine and engineering together.\n",
            "Image: https://images.indianexpress.com/2025/09/sandeep-verma-iit-kanpur.jpeg\n",
            "Content: Professor Verma holds a Master’s degree from the Banaras Hindu University, and a PhD in medicinal chemistry from the University of Illinois Medical Center, Chicago, followed by post-doctoral research at Johns Hopkins Medical Institutions, Baltimore, ... [11750 chars]\n",
            "Source Name: The Indian Express\n",
            "Source URL: https://indianexpress.com\n",
            "Source Country: in\n",
            "URL: https://indianexpress.com/article/technology/tech-news-technology/iit-kanpur-medtech-prof-sandeep-verma-10246251/\n",
            "\n",
            "Published Time: 2025-09-13T02:30:00Z\n",
            "Title: School kids worldwide are more obese than ever. Can we blame junk food marketing?\n",
            "Description: In exclusive interviews with India Today, two senior paediatricians warned that the relentless marketing of ultra-processed foods is reshaping childhood and not for the better.\n",
            "Image: https://akm-img-a-in.tosshub.com/indiatoday/images/story/202509/in-exclusive-interviews-with-india-today--two-senior-paediatricians-warned-that-the-relentless-marke-125907122-16x9_0.jpg?VersionId=VKdnl4fOjBUaaagZjUb1ShBoKotf18Hq\n",
            "Content: “Just as cigarettes or pan masala once became symbols of status, eating at junk food outlets or holding birthday parties at popular outlets or chains is now seen the same way. The danger is that these patterns leave a strong and lasting impression on... [5697 chars]\n",
            "Source Name: India Today\n",
            "Source URL: https://www.indiatoday.in\n",
            "Source Country: in\n",
            "URL: https://www.indiatoday.in/health/story/school-kids-worldwide-are-more-obese-than-ever-can-we-blame-junk-food-marketing-2786335-2025-09-13\n",
            "\n",
            "Published Time: 2025-09-12T21:08:00Z\n",
            "Title: Revise Sainik School admission norms, Supreme Court advises govt\n",
            "Description: India News: The Supreme Court intervened in two cases, ensuring admission for a girl denied entry to Sainik School due to toe deformities, highlighting archaic no\n",
            "Image: https://static.toiimg.com/thumb/msid-123859742,width-1070,height-580,imgsize-68640,resizemode-75,overlay-toi_sw,pt-32,y_pad-40/photo.jpg\n",
            "Content: The Supreme Court intervened in two cases, ensuring admission for a girl denied entry to Sainik School due to toe deformities, highlighting archaic norms in Army institutions. The court also directed the UP government to employ an OBC woman previousl... [1758 chars]\n",
            "Source Name: Times of India\n",
            "Source URL: https://timesofindia.indiatimes.com\n",
            "Source Country: in\n",
            "URL: https://timesofindia.indiatimes.com/india/revise-sainik-school-admission-norms-supreme-court-advises-govt/articleshow/123859503.cms\n",
            "\n",
            "Published Time: 2025-09-12T17:13:03Z\n",
            "Title: \"AI can't apply constitutional morality\": Arjun Ram Meghwal at inauguration of Amrita International School of Law in Coimbatore\n",
            "Description: Coimbatore (Tamil Nadu) [India], September 12 (ANI): Union Minister of Law and Justice Arjun Ram Meghwal, in coordination with Amrita Vishwa Vidyapeetham, inaugurated the Amrita International School of…\n",
            "Image: https://www.newsx.com/wp-content/uploads/2025/09/quotAI-can039t-apply-constitutional-moralityquot-Arjun-Ram-Meghwal-at-inauguration.avif\n",
            "Content: 12\n",
            "Coimbatore (Tamil Nadu) [India], September 12 (ANI): Union Minister of Law and Justice Arjun Ram Meghwal, in coordination with Amrita Vishwa Vidyapeetham, inaugurated the Amrita International School of Law (AISL) at its Coimbatore campus on Thursd... [1796 chars]\n",
            "Source Name: NewsX\n",
            "Source URL: https://www.newsx.com\n",
            "Source Country: in\n",
            "URL: https://www.newsx.com/india/ai-cant-apply-constitutional-morality-arjun-ram-meghwal-at-inauguration-of-amrita-international-school-of-law-in-coimbatore20250912223324-66930/\n",
            "\n"
          ]
        }
      ]
    },
    {
      "cell_type": "code",
      "source": [],
      "metadata": {
        "id": "9Y3UCnOz-ARh"
      },
      "execution_count": null,
      "outputs": []
    }
  ]
}